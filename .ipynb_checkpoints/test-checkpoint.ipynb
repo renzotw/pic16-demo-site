{
 "cells": [
  {
   "cell_type": "code",
   "execution_count": 349,
   "id": "64847e36",
   "metadata": {},
   "outputs": [],
   "source": [
    "import sqlite3\n",
    "import pandas as pd"
   ]
  },
  {
   "cell_type": "code",
   "execution_count": 350,
   "id": "27e935d0",
   "metadata": {},
   "outputs": [],
   "source": [
    "conn = sqlite3.connect('message_db.sqlite')"
   ]
  },
  {
   "cell_type": "code",
   "execution_count": 351,
   "id": "f52e2036",
   "metadata": {},
   "outputs": [],
   "source": [
    "cursor = conn.cursor()"
   ]
  },
  {
   "cell_type": "code",
   "execution_count": 352,
   "id": "bf3efed9",
   "metadata": {
    "scrolled": true
   },
   "outputs": [],
   "source": [
    "cursor.execute(\"Select * FROM messages\")\n",
    "result = cursor.fetchall()"
   ]
  },
  {
   "cell_type": "raw",
   "id": "333d51bd",
   "metadata": {},
   "source": []
  },
  {
   "cell_type": "code",
   "execution_count": null,
   "id": "a8851de1",
   "metadata": {},
   "outputs": [],
   "source": []
  },
  {
   "cell_type": "code",
   "execution_count": null,
   "id": "fdd8156d",
   "metadata": {},
   "outputs": [],
   "source": []
  },
  {
   "cell_type": "code",
   "execution_count": null,
   "id": "f5a4634f",
   "metadata": {},
   "outputs": [],
   "source": []
  },
  {
   "cell_type": "code",
   "execution_count": null,
   "id": "3d2bbd93",
   "metadata": {},
   "outputs": [],
   "source": []
  }
 ],
 "metadata": {
  "kernelspec": {
   "display_name": "Python [conda env:PIC_16B] *",
   "language": "python",
   "name": "conda-env-PIC_16B-py"
  },
  "language_info": {
   "codemirror_mode": {
    "name": "ipython",
    "version": 3
   },
   "file_extension": ".py",
   "mimetype": "text/x-python",
   "name": "python",
   "nbconvert_exporter": "python",
   "pygments_lexer": "ipython3",
   "version": "3.7.11"
  }
 },
 "nbformat": 4,
 "nbformat_minor": 5
}
