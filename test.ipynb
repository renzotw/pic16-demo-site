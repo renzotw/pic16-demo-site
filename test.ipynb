{
 "cells": [
  {
   "cell_type": "code",
   "execution_count": 173,
   "id": "64847e36",
   "metadata": {},
   "outputs": [],
   "source": [
    "import sqlite3\n",
    "import pandas as pd"
   ]
  },
  {
   "cell_type": "code",
   "execution_count": 174,
   "id": "27e935d0",
   "metadata": {},
   "outputs": [],
   "source": [
    "conn = sqlite3.connect('message_db.sqlite')"
   ]
  },
  {
   "cell_type": "code",
   "execution_count": 175,
   "id": "f52e2036",
   "metadata": {},
   "outputs": [],
   "source": [
    "cursor = conn.cursor()"
   ]
  },
  {
   "cell_type": "code",
   "execution_count": 176,
   "id": "bf3efed9",
   "metadata": {
    "scrolled": true
   },
   "outputs": [
    {
     "data": {
      "text/plain": [
       "<sqlite3.Cursor at 0x7fab20e1e570>"
      ]
     },
     "execution_count": 176,
     "metadata": {},
     "output_type": "execute_result"
    }
   ],
   "source": [
    "cursor.execute(\"Select * FROM messages\")"
   ]
  },
  {
   "cell_type": "code",
   "execution_count": 177,
   "id": "efebced4",
   "metadata": {},
   "outputs": [
    {
     "data": {
      "text/plain": [
       "[(1, 'Renzo', 'Test 1'),\n",
       " (2, 'Renzo', 'Test 2'),\n",
       " (3, 'Joe Bruin', 'Test 3'),\n",
       " (4, 'Renzo Tanaka-Wong', \"I'm sleepy\"),\n",
       " (5, 'Sam', 'Default'),\n",
       " (6, 'renzotw@g.ucla.edu', 'More messages'),\n",
       " (7, 'renzotw', 'username'),\n",
       " (8, 'Harry', 'A few more messages'),\n",
       " (9, 'Steph', 'More testing'),\n",
       " (10, 'Klay', 'Rocco'),\n",
       " (11, 'Renzo', 'One more message'),\n",
       " (12, 'Renzo', 'Submit still works'),\n",
       " (13, 'Renzo', 'Current message')]"
      ]
     },
     "execution_count": 177,
     "metadata": {},
     "output_type": "execute_result"
    }
   ],
   "source": [
    "result = cursor.fetchall()\n",
    "result"
   ]
  },
  {
   "cell_type": "code",
   "execution_count": 165,
   "id": "51ae46f2",
   "metadata": {
    "scrolled": true
   },
   "outputs": [
    {
     "data": {
      "text/plain": [
       "<sqlite3.Cursor at 0x7fab20e37ce0>"
      ]
     },
     "execution_count": 165,
     "metadata": {},
     "output_type": "execute_result"
    }
   ],
   "source": [
    "cursor.execute(\"SELECT message, handle FROM messages ORDER BY RANDOM() LIMIT (?)\", (3,))"
   ]
  },
  {
   "cell_type": "code",
   "execution_count": 166,
   "id": "e99d6e4b",
   "metadata": {
    "scrolled": true
   },
   "outputs": [],
   "source": [
    "messages = cursor.fetchall()"
   ]
  },
  {
   "cell_type": "code",
   "execution_count": 167,
   "id": "7b93b3b8",
   "metadata": {
    "scrolled": true
   },
   "outputs": [
    {
     "data": {
      "text/plain": [
       "[('Default', 'Sam'),\n",
       " ('A few more messages', 'Harry'),\n",
       " ('More messages', 'renzotw@g.ucla.edu')]"
      ]
     },
     "execution_count": 167,
     "metadata": {},
     "output_type": "execute_result"
    }
   ],
   "source": [
    "messages"
   ]
  },
  {
   "cell_type": "code",
   "execution_count": null,
   "id": "8866cd85",
   "metadata": {},
   "outputs": [],
   "source": [
    "m"
   ]
  },
  {
   "cell_type": "code",
   "execution_count": 110,
   "id": "13a5c4ad",
   "metadata": {},
   "outputs": [],
   "source": [
    "df = pd.DataFrame(data=messages, columns=['name1','name2','name3'])         "
   ]
  },
  {
   "cell_type": "code",
   "execution_count": 111,
   "id": "7edfba7f",
   "metadata": {},
   "outputs": [
    {
     "data": {
      "text/html": [
       "<div>\n",
       "<style scoped>\n",
       "    .dataframe tbody tr th:only-of-type {\n",
       "        vertical-align: middle;\n",
       "    }\n",
       "\n",
       "    .dataframe tbody tr th {\n",
       "        vertical-align: top;\n",
       "    }\n",
       "\n",
       "    .dataframe thead th {\n",
       "        text-align: right;\n",
       "    }\n",
       "</style>\n",
       "<table border=\"1\" class=\"dataframe\">\n",
       "  <thead>\n",
       "    <tr style=\"text-align: right;\">\n",
       "      <th></th>\n",
       "      <th>name1</th>\n",
       "      <th>name2</th>\n",
       "      <th>name3</th>\n",
       "    </tr>\n",
       "  </thead>\n",
       "  <tbody>\n",
       "    <tr>\n",
       "      <th>0</th>\n",
       "      <td>4</td>\n",
       "      <td>Renzo Tanaka-Wong</td>\n",
       "      <td>I'm sleepy</td>\n",
       "    </tr>\n",
       "    <tr>\n",
       "      <th>1</th>\n",
       "      <td>2</td>\n",
       "      <td>Renzo</td>\n",
       "      <td>Test 2</td>\n",
       "    </tr>\n",
       "    <tr>\n",
       "      <th>2</th>\n",
       "      <td>9</td>\n",
       "      <td>Steph</td>\n",
       "      <td>More testing</td>\n",
       "    </tr>\n",
       "  </tbody>\n",
       "</table>\n",
       "</div>"
      ],
      "text/plain": [
       "   name1              name2         name3\n",
       "0      4  Renzo Tanaka-Wong    I'm sleepy\n",
       "1      2              Renzo        Test 2\n",
       "2      9              Steph  More testing"
      ]
     },
     "execution_count": 111,
     "metadata": {},
     "output_type": "execute_result"
    }
   ],
   "source": [
    "df"
   ]
  },
  {
   "cell_type": "code",
   "execution_count": 112,
   "id": "b95e1c87",
   "metadata": {},
   "outputs": [],
   "source": [
    "html_string = df.to_html() "
   ]
  },
  {
   "cell_type": "code",
   "execution_count": 113,
   "id": "e14ede92",
   "metadata": {},
   "outputs": [
    {
     "data": {
      "text/plain": [
       "'<table border=\"1\" class=\"dataframe\">\\n  <thead>\\n    <tr style=\"text-align: right;\">\\n      <th></th>\\n      <th>name1</th>\\n      <th>name2</th>\\n      <th>name3</th>\\n    </tr>\\n  </thead>\\n  <tbody>\\n    <tr>\\n      <th>0</th>\\n      <td>4</td>\\n      <td>Renzo Tanaka-Wong</td>\\n      <td>I\\'m sleepy</td>\\n    </tr>\\n    <tr>\\n      <th>1</th>\\n      <td>2</td>\\n      <td>Renzo</td>\\n      <td>Test 2</td>\\n    </tr>\\n    <tr>\\n      <th>2</th>\\n      <td>9</td>\\n      <td>Steph</td>\\n      <td>More testing</td>\\n    </tr>\\n  </tbody>\\n</table>'"
      ]
     },
     "execution_count": 113,
     "metadata": {},
     "output_type": "execute_result"
    }
   ],
   "source": [
    "html_string"
   ]
  },
  {
   "cell_type": "code",
   "execution_count": null,
   "id": "3d2543d0",
   "metadata": {},
   "outputs": [],
   "source": []
  }
 ],
 "metadata": {
  "kernelspec": {
   "display_name": "Python [conda env:PIC_16B] *",
   "language": "python",
   "name": "conda-env-PIC_16B-py"
  },
  "language_info": {
   "codemirror_mode": {
    "name": "ipython",
    "version": 3
   },
   "file_extension": ".py",
   "mimetype": "text/x-python",
   "name": "python",
   "nbconvert_exporter": "python",
   "pygments_lexer": "ipython3",
   "version": "3.7.11"
  }
 },
 "nbformat": 4,
 "nbformat_minor": 5
}
